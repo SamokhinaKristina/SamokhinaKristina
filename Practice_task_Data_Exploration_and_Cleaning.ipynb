{
  "cells": [
    {
      "cell_type": "markdown",
      "metadata": {
        "id": "view-in-github",
        "colab_type": "text"
      },
      "source": [
        "<a href=\"https://colab.research.google.com/github/SamokhinaKristina/SamokhinaKristina/blob/main/Practice_task_Data_Exploration_and_Cleaning.ipynb\" target=\"_parent\"><img src=\"https://colab.research.google.com/assets/colab-badge.svg\" alt=\"Open In Colab\"/></a>"
      ]
    },
    {
      "cell_type": "markdown",
      "metadata": {
        "id": "dKU2obxkKH8c"
      },
      "source": [
        "# Welcome the practice notebook\n",
        "---\n",
        "The objective of this practice is to provide a hands-on experience in data exploration and cleaning. Please follow the instructions provided in the  notebook to complete the practice."
      ]
    },
    {
      "cell_type": "markdown",
      "metadata": {
        "id": "M1xXctOSKf36"
      },
      "source": [
        "Installing pyspark"
      ]
    },
    {
      "cell_type": "code",
      "execution_count": 1,
      "metadata": {
        "colab": {
          "base_uri": "https://localhost:8080/"
        },
        "id": "bLd6XoJtJZP4",
        "outputId": "b35fd176-8365-4656-a534-8dc41b76ef35"
      },
      "outputs": [
        {
          "output_type": "stream",
          "name": "stdout",
          "text": [
            "Requirement already satisfied: pyspark in /usr/local/lib/python3.11/dist-packages (3.5.1)\n",
            "Requirement already satisfied: py4j==0.10.9.7 in /usr/local/lib/python3.11/dist-packages (from pyspark) (0.10.9.7)\n"
          ]
        }
      ],
      "source": [
        "!pip install pyspark"
      ]
    },
    {
      "cell_type": "markdown",
      "metadata": {
        "id": "1gA6GqvzKpR6"
      },
      "source": [
        "Importing the needed modules and creating the spark session"
      ]
    },
    {
      "cell_type": "code",
      "execution_count": 2,
      "metadata": {
        "colab": {
          "base_uri": "https://localhost:8080/",
          "height": 219
        },
        "id": "c-YsrJbjKptK",
        "outputId": "a02cd0a8-a0ee-4341-debc-52fd02871cba"
      },
      "outputs": [
        {
          "output_type": "execute_result",
          "data": {
            "text/plain": [
              "<pyspark.sql.session.SparkSession at 0x7e5268182b10>"
            ],
            "text/html": [
              "\n",
              "            <div>\n",
              "                <p><b>SparkSession - in-memory</b></p>\n",
              "                \n",
              "        <div>\n",
              "            <p><b>SparkContext</b></p>\n",
              "\n",
              "            <p><a href=\"http://9325c549dd58:4040\">Spark UI</a></p>\n",
              "\n",
              "            <dl>\n",
              "              <dt>Version</dt>\n",
              "                <dd><code>v3.5.1</code></dd>\n",
              "              <dt>Master</dt>\n",
              "                <dd><code>local[*]</code></dd>\n",
              "              <dt>AppName</dt>\n",
              "                <dd><code>Customer_Churn_Prediction</code></dd>\n",
              "            </dl>\n",
              "        </div>\n",
              "        \n",
              "            </div>\n",
              "        "
            ]
          },
          "metadata": {},
          "execution_count": 2
        }
      ],
      "source": [
        "# importing spark session\n",
        "from pyspark.sql import SparkSession\n",
        "\n",
        "# data visualization modules\n",
        "import matplotlib.pyplot as plt\n",
        "import plotly.express as px\n",
        "\n",
        "# pandas module\n",
        "import pandas as pd\n",
        "\n",
        "# pyspark SQL functions\n",
        "from pyspark.sql.functions import col, when, count\n",
        "\n",
        "# creating the spark session\n",
        "spark = SparkSession.builder.appName(\"Customer_Churn_Prediction\").getOrCreate()\n",
        "spark"
      ]
    },
    {
      "cell_type": "markdown",
      "metadata": {
        "id": "Jn6fCpN5K5jb"
      },
      "source": [
        "Loading the `parctice-dataset.csv` file"
      ]
    },
    {
      "cell_type": "code",
      "execution_count": 4,
      "metadata": {
        "colab": {
          "base_uri": "https://localhost:8080/"
        },
        "id": "5EKyTAZYKyTr",
        "outputId": "1056813d-3b35-432a-c404-f4417ff17879"
      },
      "outputs": [
        {
          "output_type": "stream",
          "name": "stdout",
          "text": [
            "+----------+------------+------------+------------+------------+----------------+\n",
            "|EmployeeID|        KPI1|        KPI2|        KPI3|        KPI4|Current Employee|\n",
            "+----------+------------+------------+------------+------------+----------------+\n",
            "|         0|-1.039682384|-0.716426478|-0.513467693| 0.414661471|               0|\n",
            "|         1| 0.237093465|-0.820123996|-0.865801274| 0.438661047|               0|\n",
            "|         2|-2.077948003| 0.185688029|-0.132418305| 0.711280402|               1|\n",
            "|         3|-0.684711628| 1.522335039| 1.674082146|-1.234292085|               1|\n",
            "|         4|-1.137117653|-0.555136531|-0.176780706|-1.776008972|               0|\n",
            "+----------+------------+------------+------------+------------+----------------+\n",
            "only showing top 5 rows\n",
            "\n"
          ]
        }
      ],
      "source": [
        "data = spark.read.format('csv').option('header',True).option('inferSchema',True).load('Practice_dataset.csv')\n",
        "data.show(5)\n"
      ]
    },
    {
      "cell_type": "markdown",
      "metadata": {
        "id": "G5CQl_LEVHW3"
      },
      "source": [
        "How many rows and columns do we have in the dataset?"
      ]
    },
    {
      "cell_type": "code",
      "execution_count": 5,
      "metadata": {
        "colab": {
          "base_uri": "https://localhost:8080/"
        },
        "id": "oLhqklGYVDsx",
        "outputId": "854b566e-3499-4b86-dd81-f0200ffec3be"
      },
      "outputs": [
        {
          "output_type": "stream",
          "name": "stdout",
          "text": [
            "10000 Rows\n",
            "6 Column\n"
          ]
        }
      ],
      "source": [
        "# write your code here\n",
        "print(data.count(), \"Rows\")\n",
        "print(len(data.columns), \"Column\")"
      ]
    },
    {
      "cell_type": "markdown",
      "metadata": {
        "id": "XU590GfcViTP"
      },
      "source": [
        "Create a histogram matrix to analyse the distributions of the numerical columns.\n",
        "\n",
        "- *Hint 1: List of the numerical columns = `[\"KPI1\",\"KPI2\",\"KPI3\",\"KPI4\"]`* <br>\n",
        "- *Hint 2: To create the histograms, first you will need to convert the pyspark dataframe into a pandas dataframe.*"
      ]
    },
    {
      "cell_type": "code",
      "execution_count": 6,
      "metadata": {
        "colab": {
          "base_uri": "https://localhost:8080/",
          "height": 521
        },
        "id": "0JtVJ2SGVrV3",
        "outputId": "0c8fe737-4622-4f39-d3b5-f0867beecf87"
      },
      "outputs": [
        {
          "output_type": "execute_result",
          "data": {
            "text/plain": [
              "array([[<Axes: title={'center': 'KPI1'}>,\n",
              "        <Axes: title={'center': 'KPI2'}>],\n",
              "       [<Axes: title={'center': 'KPI3'}>,\n",
              "        <Axes: title={'center': 'KPI4'}>]], dtype=object)"
            ]
          },
          "metadata": {},
          "execution_count": 6
        },
        {
          "output_type": "display_data",
          "data": {
            "text/plain": [
              "<Figure size 640x480 with 4 Axes>"
            ],
            "image/png": "[encoded data removed]"
          },
          "metadata": {}
        }
      ],
      "source": [
        "# write your code here\n",
        "df = data.select([\"KPI1\",\"KPI2\",\"KPI3\",\"KPI4\"]).toPandas()\n",
        "df.hist()"
      ]
    },
    {
      "cell_type": "markdown",
      "metadata": {
        "id": "K3RKi7OHWJWP"
      },
      "source": [
        "Observe the distributions of the numerical columns in the histograms generated in the previous part.\n",
        "- Find the columns with outilers\n",
        "- Remove the outliers"
      ]
    },
    {
      "cell_type": "code",
      "execution_count": 7,
      "metadata": {
        "colab": {
          "base_uri": "https://localhost:8080/"
        },
        "id": "e0DVLkyrWTF_",
        "outputId": "f213f34b-c4ac-478c-c1c6-cec713988b99"
      },
      "outputs": [
        {
          "output_type": "execute_result",
          "data": {
            "text/plain": [
              "9995"
            ]
          },
          "metadata": {},
          "execution_count": 7
        }
      ],
      "source": [
        "# write your code here\n",
        "data = data.filter(data.KPI2 < 5)\n",
        "data = data.filter(data.KPI4 < 5)\n",
        "data.count()"
      ]
    },
    {
      "cell_type": "markdown",
      "metadata": {
        "id": "B59cm1jwXBuX"
      },
      "source": [
        "Find the missing values in the dataset."
      ]
    },
    {
      "cell_type": "code",
      "execution_count": 8,
      "metadata": {
        "colab": {
          "base_uri": "https://localhost:8080/"
        },
        "id": "r-QiT3txWyj3",
        "outputId": "57729928-8a68-480c-8158-08aa12f97f8f"
      },
      "outputs": [
        {
          "output_type": "stream",
          "name": "stdout",
          "text": [
            "+----------+\n",
            "|EmployeeID|\n",
            "+----------+\n",
            "|         0|\n",
            "+----------+\n",
            "\n",
            "+----+\n",
            "|KPI1|\n",
            "+----+\n",
            "|   4|\n",
            "+----+\n",
            "\n",
            "+----+\n",
            "|KPI2|\n",
            "+----+\n",
            "|   0|\n",
            "+----+\n",
            "\n",
            "+----+\n",
            "|KPI3|\n",
            "+----+\n",
            "|   2|\n",
            "+----+\n",
            "\n",
            "+----+\n",
            "|KPI4|\n",
            "+----+\n",
            "|   0|\n",
            "+----+\n",
            "\n",
            "+----------------+\n",
            "|Current Employee|\n",
            "+----------------+\n",
            "|               0|\n",
            "+----------------+\n",
            "\n"
          ]
        }
      ],
      "source": [
        "# write your code here\n",
        "for c in data.columns:\n",
        "  data.select(count(when(col(c).isNull(), c)).alias(c)).show()"
      ]
    },
    {
      "cell_type": "markdown",
      "metadata": {
        "id": "cMOG53waYjoI"
      },
      "source": [
        "Use **Mean Imputer** to fill the missing values"
      ]
    },
    {
      "cell_type": "code",
      "execution_count": 9,
      "metadata": {
        "colab": {
          "base_uri": "https://localhost:8080/"
        },
        "id": "bYK7AF1aYpAW",
        "outputId": "1f1edb4b-4ee6-4e16-f523-fb78ac05d131"
      },
      "outputs": [
        {
          "output_type": "stream",
          "name": "stdout",
          "text": [
            "+----------+------------+------------+------------+------------+----------------+\n",
            "|EmployeeID|        KPI1|        KPI2|        KPI3|        KPI4|Current Employee|\n",
            "+----------+------------+------------+------------+------------+----------------+\n",
            "|         0|-1.039682384|-0.716426478|-0.513467693| 0.414661471|               0|\n",
            "|         1| 0.237093465|-0.820123996|-0.865801274| 0.438661047|               0|\n",
            "|         2|-2.077948003| 0.185688029|-0.132418305| 0.711280402|               1|\n",
            "|         3|-0.684711628| 1.522335039| 1.674082146|-1.234292085|               1|\n",
            "|         4|-1.137117653|-0.555136531|-0.176780706|-1.776008972|               0|\n",
            "|         5|-1.052934587| 0.119522573|-0.188215465|-0.867239924|               1|\n",
            "|         6| 0.953745557| 0.738929252|   0.6416214|-1.069803493|               1|\n",
            "|         7|-0.623751805| 1.770892731| 2.084658776| 0.436191916|               1|\n",
            "|         8| 0.998210721| -0.74099461|-0.356348072|-1.950751965|               0|\n",
            "|         9| 0.758314405| 1.076384475| 1.131034824|-3.015482485|               1|\n",
            "|        10| 0.077446987|-0.843088361|-0.880547803| -0.08415317|               0|\n",
            "|        11|-0.956805146|-1.091174781|-1.295454027| 1.044791141|               0|\n",
            "|        12| 0.995712549| 1.700963674| 2.007093291| 1.931698523|               1|\n",
            "|        13| 0.395978553| 0.209047934| -0.16045266|-1.455579401|               1|\n",
            "|        14| 0.177306559|-0.866959365|-0.553164976| 1.714738572|               0|\n",
            "|        15| 0.027309988| 0.608264436| 0.445036924| 0.442507182|               1|\n",
            "|        16| 1.749741607| 1.312478572| 1.505352228|  -0.3628566|               1|\n",
            "|        17|-0.700475943|-1.352578351|-1.654399169|-1.260000648|               0|\n",
            "|        18|-0.151829603|-0.985443417|-1.001387705| 1.282372239|               0|\n",
            "|        19| 1.536147843|-1.290915014|-1.462398863| 0.271752371|               0|\n",
            "+----------+------------+------------+------------+------------+----------------+\n",
            "only showing top 20 rows\n",
            "\n"
          ]
        }
      ],
      "source": [
        "from pyspark.ml.feature import Imputer\n",
        "# write your code here\n",
        "columns_with_missiong_values = [\"KPI1\", \"KPI3\", \"KPI4\"]\n",
        "imputer = Imputer(inputCols= columns_with_missiong_values, outputCols= columns_with_missiong_values).setStrategy(\"mean\")\n",
        "imputer = imputer.fit(data)\n",
        "data = imputer.transform(data)\n",
        "data.show()"
      ]
    },
    {
      "cell_type": "markdown",
      "metadata": {
        "id": "whcp-_jbbmQ-"
      },
      "source": [
        "Again, find the missing values in the dataset to make sure no missing value exists."
      ]
    },
    {
      "cell_type": "code",
      "execution_count": 10,
      "metadata": {
        "colab": {
          "base_uri": "https://localhost:8080/"
        },
        "id": "YUhsVtYQa5bm",
        "outputId": "33f3e4b9-8aeb-49f2-9e49-6cb84f1fd618"
      },
      "outputs": [
        {
          "output_type": "stream",
          "name": "stdout",
          "text": [
            "+----------+\n",
            "|EmployeeID|\n",
            "+----------+\n",
            "|         0|\n",
            "+----------+\n",
            "\n",
            "+----+\n",
            "|KPI1|\n",
            "+----+\n",
            "|   0|\n",
            "+----+\n",
            "\n",
            "+----+\n",
            "|KPI2|\n",
            "+----+\n",
            "|   0|\n",
            "+----+\n",
            "\n",
            "+----+\n",
            "|KPI3|\n",
            "+----+\n",
            "|   0|\n",
            "+----+\n",
            "\n",
            "+----+\n",
            "|KPI4|\n",
            "+----+\n",
            "|   0|\n",
            "+----+\n",
            "\n",
            "+----------------+\n",
            "|Current Employee|\n",
            "+----------------+\n",
            "|               0|\n",
            "+----------------+\n",
            "\n"
          ]
        }
      ],
      "source": [
        "# write your code here\n",
        "for c in data.columns:\n",
        "  data.select(count(when(col(c).isNull(), c)).alias(c)).show()"
      ]
    },
    {
      "cell_type": "code",
      "source": [],
      "metadata": {
        "id": "W7vOAfIF3-SA"
      },
      "execution_count": null,
      "outputs": []
    }
  ],
  "metadata": {
    "colab": {
      "provenance": [],
      "include_colab_link": true
    },
    "kernelspec": {
      "display_name": "Python 3 (ipykernel)",
      "language": "python",
      "name": "python3"
    },
    "language_info": {
      "codemirror_mode": {
        "name": "ipython",
        "version": 3
      },
      "file_extension": ".py",
      "mimetype": "text/x-python",
      "name": "python",
      "nbconvert_exporter": "python",
      "pygments_lexer": "ipython3",
      "version": "3.10.6"
    }
  },
  "nbformat": 4,
  "nbformat_minor": 0
}